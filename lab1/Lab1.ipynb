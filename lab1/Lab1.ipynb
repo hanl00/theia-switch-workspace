{
 "cells": [
  {
   "cell_type": "markdown",
   "metadata": {},
   "source": [
    "Welcome to Lab 1. In this lab, you are tasked with performing a simple mathematical calculation via the gnome-calculator."
   ]
  },
  {
   "cell_type": "markdown",
   "metadata": {},
   "source": [
    "%%html\n",
    "Step 1 <br> Click on the Browser Preview extension on the side panel <br>\n",
    "<img src=\"browser-preview-icon.png\">"
   ]
  },
  {
   "cell_type": "markdown",
   "metadata": {},
   "source": [
    "![title](\"terminal.png\")"
   ]
  },
  {
   "cell_type": "markdown",
   "metadata": {},
   "source": [
    "Step 2 <br>\n",
    "Launch a terminal from the menu bar <br> \n",
    "<img src=\"terminal.png\">"
   ]
  },
  {
   "cell_type": "markdown",
   "metadata": {},
   "source": [
    "Step 3 <br>\n",
    "Type in the following commands in the terminal: <br>\n",
    "1) export DISPLAY=:99 <br>\n",
    "2) gnome-calculator <br> You will see that a calculator has appeared on the screen"
   ]
  },
  {
   "cell_type": "markdown",
   "metadata": {},
   "source": [
    "Step 4 <br> Magical Birthday Calculator <br>\n",
    "We are now going to display your birth date. <br>\n",
    "Perform the following calculations on the gnome-calculator: <br>\n",
    "1) Multiply the month by 4 <br>\n",
    "2) Add 13 <br>\n",
    "3) Multiply by 25 <br>\n",
    "4) Subtract 200 <br>\n",
    "5) Add the day of the month you were born <br>\n",
    "6) Multiply by 2 <br>\n",
    "7) Subtract 40 <br>\n",
    "8) Multiply by 50 <br>\n",
    "9) Add the last two digits of your year of birth (E.g. 86 from 1986) <br>\n",
    "10) Subtract 10500 <br>\n",
    "\n",
    "You should get a 5 digit number. <br>\n",
    "1st digit = month of birth <br>\n",
    "2nd and 3rd digit = day of birth <br>\n",
    "4th and 5th digit = year of birth <br>\n",
    "\n"
   ]
  },
  {
   "cell_type": "markdown",
   "metadata": {},
   "source": [
    "Did you manage to display your birth date on the calculator ?"
   ]
  }
 ],
 "metadata": {
  "kernelspec": {
   "display_name": "Python 3",
   "language": "python",
   "name": "python3"
  },
  "language_info": {
   "codemirror_mode": {
    "name": "ipython",
    "version": 3
   },
   "file_extension": ".py",
   "mimetype": "text/x-python",
   "name": "python",
   "nbconvert_exporter": "python",
   "pygments_lexer": "ipython3",
   "version": "3.7.3"
  }
 },
 "nbformat": 4,
 "nbformat_minor": 2
}
